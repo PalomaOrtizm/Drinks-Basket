{
 "cells": [
  {
   "cell_type": "markdown",
   "metadata": {},
   "source": [
    "## Limpieza y extraccion de datos"
   ]
  },
  {
   "cell_type": "markdown",
   "metadata": {},
   "source": [
    "### Importacion de librerias y de datos"
   ]
  },
  {
   "cell_type": "code",
   "execution_count": null,
   "metadata": {},
   "outputs": [],
   "source": [
    "#se importan las librerias a utilizar\n",
    "import pandas as pd\n",
    "import numpy as np"
   ]
  },
  {
   "cell_type": "code",
   "execution_count": null,
   "metadata": {},
   "outputs": [],
   "source": [
    "#Se importan las tablas a modificar:\n",
    "\n",
    "SalesDetail = pd.read_csv (\"SalesFINAL12312016.csv\", sep=\",\")\n",
    "Sales = pd.read_csv (\"SalesFINAL12312016.csv\", sep=\",\")\n",
    "Inventory = pd.read_csv (\"BegInvFINAL12312016.csv\", sep=\",\")\n",
    "Purchases = pd.read_csv (\"PurchasesFINAL12312016.csv\", sep= \",\")\n",
    "InvoicePurchases = pd.read_csv (\"InvoicePurchases12312016.csv\", sep=\",\")\n",
    "Suppliers = pd.read_csv (\"InvoicePurchases12312016.csv\", sep=\",\")\n",
    "\n"
   ]
  },
  {
   "cell_type": "markdown",
   "metadata": {},
   "source": [
    "### Limpieza "
   ]
  },
  {
   "cell_type": "code",
   "execution_count": null,
   "metadata": {},
   "outputs": [],
   "source": [
    "# Lista de DataFrames\n",
    "dataframes = [SalesDetail, Sales, Inventory, Purchases, InvoicePurchases, Suppliers]\n",
    "\n",
    "# Cambiar el nombre de la columna si existe (para cohesionar todo el codigo y las tablas)\n",
    "for df in dataframes:\n",
    "    if 'InventoryId' in df.columns:\n",
    "        df.rename(columns={'InventoryId': 'InventoryID'},inplace=True)\n",
    "\n",
    "# Limpiar duplicados en cada DataFrame\n",
    "for i, df in enumerate(dataframes):\n",
    "    dataframes[i] = df.drop_duplicates()\n",
    "\n",
    "# Limpiar nulos en cada DataFrame\n",
    "for i, df in enumerate(dataframes):\n",
    "    dataframes[i] = df.dropna()\n",
    "\n",
    "# Mostrar los DataFrames actualizados para verificar\n",
    "for df in dataframes:\n",
    "    print(df.head())\n"
   ]
  },
  {
   "cell_type": "markdown",
   "metadata": {},
   "source": [
    "## Correccion y creacion de tablas"
   ]
  },
  {
   "cell_type": "markdown",
   "metadata": {},
   "source": [
    "### SalesDetails"
   ]
  },
  {
   "cell_type": "code",
   "execution_count": null,
   "metadata": {},
   "outputs": [],
   "source": [
    "#Se ven las columnas para analizar cuales quedan segun el diagrama entidad relacion hecho.\n",
    "print (SalesDetail.columns)\n",
    "print (SalesDetail)"
   ]
  },
  {
   "cell_type": "code",
   "execution_count": null,
   "metadata": {},
   "outputs": [],
   "source": [
    "# Se eliminan las columnas que no son necesarias en esta tabla para el analisis\n",
    "# Especificamos las columnas que quieres eliminar\n",
    "columns_to_drop = [ 'Volume', 'Classification', 'ExciseTax', 'VendorName','VendorNo']\n",
    "\n",
    "# Verificar si las columnas a eliminar existen en el DataFrame\n",
    "existing_columns_to_drop = [col for col in columns_to_drop if col in SalesDetail.columns]\n",
    "\n",
    "# Imprimir advertencia para las columnas no encontradas\n",
    "for col in columns_to_drop:\n",
    "    if col not in SalesDetail.columns:\n",
    "        print(f\"Advertencia: La columna '{col}' no existe en el DataFrame y no se puede eliminar.\")\n",
    "\n",
    "# Eliminar las columnas especificadas que existen\n",
    "SalesDetail.drop(columns=existing_columns_to_drop, axis=1, inplace=True)\n"
   ]
  },
  {
   "cell_type": "code",
   "execution_count": null,
   "metadata": {},
   "outputs": [],
   "source": [
    "#Se crea la columna indice con el nombre correspondiente\n",
    "SalesDetail['DetailSalesID'] = range(1, len(SalesDetail) + 1)\n",
    "SalesDetail['IDSales'] = range(1, len(SalesDetail) + 1)"
   ]
  },
  {
   "cell_type": "code",
   "execution_count": null,
   "metadata": {},
   "outputs": [],
   "source": [
    "print (SalesDetail.columns)\n",
    "print (SalesDetail)"
   ]
  },
  {
   "cell_type": "markdown",
   "metadata": {},
   "source": [
    "### Sales"
   ]
  },
  {
   "cell_type": "code",
   "execution_count": null,
   "metadata": {},
   "outputs": [],
   "source": [
    "print (Sales.columns)\n",
    "print (Sales)"
   ]
  },
  {
   "cell_type": "code",
   "execution_count": null,
   "metadata": {},
   "outputs": [],
   "source": [
    "#Se eliminan las columnas que no son necesarias en esta tabla\n",
    "# Especificamos las columnas que queremos eliminar\n",
    "columns_to_drop = [  'Brand', 'Description', 'Size', 'Store',  'Volume', 'Classification', 'VendorName','VendorNo']\n",
    "\n",
    "# Verificamos si las columnas a eliminar existen en el DataFrame\n",
    "existing_columns_to_drop = [col for col in columns_to_drop if col in Sales.columns]\n",
    "\n",
    "# Imprimir advertencia para las columnas no encontradas\n",
    "for col in columns_to_drop:\n",
    "    if col not in Sales.columns:\n",
    "        print(f\"Advertencia: La columna '{col}' no existe en el DataFrame y no se puede eliminar.\")\n",
    "\n",
    "# Eliminar las columnas especificadas que existen\n",
    "Sales.drop(columns=existing_columns_to_drop, axis=1, inplace=True)\n",
    "\n",
    "print (Sales.columns)"
   ]
  },
  {
   "cell_type": "code",
   "execution_count": null,
   "metadata": {},
   "outputs": [],
   "source": [
    "#Se crea la columna indice con el nombre correspondiente\n",
    "Sales['SalesID'] = range(1, len(Sales) + 1)\n",
    "print (Sales.columns)\n",
    "print (Sales)\n"
   ]
  },
  {
   "cell_type": "markdown",
   "metadata": {},
   "source": [
    "### Inventory"
   ]
  },
  {
   "cell_type": "code",
   "execution_count": null,
   "metadata": {},
   "outputs": [],
   "source": [
    "#Se ven las columnas para analizar cuales quedan segun el diagrama entidad relacion hecho.\n",
    "print (Inventory.columns)\n",
    "print (Inventory)"
   ]
  },
  {
   "cell_type": "code",
   "execution_count": null,
   "metadata": {},
   "outputs": [],
   "source": [
    "# Ya que las columnas estan incorrectamente nombradas se corrigen los nombres.\n",
    "Inventory = Inventory.rename(columns={'Brand1': 'InventoryID'})\n",
    "Inventory = Inventory.rename(columns={'InventoryId1': 'Brand'})\n",
    "print(Inventory.columns)\n",
    "print(Inventory)\n",
    "\n",
    "#Se crea la columna indice con el nombre correspondiente\n",
    "Inventory['ProductID'] = range(1, len(Inventory) + 1)\n",
    "\n",
    "print (Inventory.columns)\n",
    "print (Inventory)"
   ]
  },
  {
   "cell_type": "markdown",
   "metadata": {},
   "source": [
    "### Purchases"
   ]
  },
  {
   "cell_type": "code",
   "execution_count": null,
   "metadata": {},
   "outputs": [],
   "source": [
    "#Se ven las columnas para analizar cuales quedan segun el diagrama entidad/relacion hecho.\n",
    "print (Purchases.columns)\n",
    "print (Purchases)"
   ]
  },
  {
   "cell_type": "code",
   "execution_count": null,
   "metadata": {},
   "outputs": [],
   "source": [
    "# Se renombra la columna InventoryID para que coincida con las demas tablas\n",
    "Purchases = Purchases.rename(columns={'InventoryId': 'InventoryID'})\n",
    "\n",
    "# Se eliminan las columnas que no son necesarias en esta tabla\n",
    "# Especificamos las columnas que quieres eliminar\n",
    "columns_to_drop = [ 'Description', 'Size', 'VendorNumber', 'VendorName', 'InvoiceDate', 'PayDate', ]\n",
    "\n",
    "\n",
    "# Verificamos si las columnas a eliminar existen en el DataFrame\n",
    "existing_columns_to_drop = [col for col in columns_to_drop if col in Purchases.columns]\n",
    "\n",
    "# Imprimimos advertencia para las columnas no encontradas\n",
    "for col in columns_to_drop:\n",
    "    if col not in Purchases.columns:\n",
    "        print(f\"Advertencia: La columna '{col}' no existe en el DataFrame y no se puede eliminar.\")\n",
    "\n",
    "# Eliminamos las columnas especificadas que existen\n",
    "Purchases.drop(columns=existing_columns_to_drop, axis=1, inplace=True)\n",
    "\n",
    "#Se crea la columna indice con el nombre correspondiente\n",
    "Purchases['PurchasesID'] = range(1, len(Purchases) + 1)\n",
    "\n",
    "print (Purchases.columns)\n",
    "print (Purchases)"
   ]
  },
  {
   "cell_type": "markdown",
   "metadata": {},
   "source": [
    "### InvoicePurchases"
   ]
  },
  {
   "cell_type": "code",
   "execution_count": null,
   "metadata": {},
   "outputs": [],
   "source": [
    "print (InvoicePurchases.columns)\n",
    "print (InvoicePurchases)"
   ]
  },
  {
   "cell_type": "code",
   "execution_count": null,
   "metadata": {},
   "outputs": [],
   "source": [
    "# Se Realiza un join entre Purchases e InvoicePurchases con la columna PONumber para traer PurchasesID\n",
    "InvoicePurchases = InvoicePurchases.merge(Purchases[['PONumber', 'PurchasesID']], on='PONumber', how='left')\n",
    "print (InvoicePurchases)\n",
    "\n",
    "# Se liminan las columnas que no son necesarias en esta tabla\n",
    "# Especificamos las columnas que quieres eliminar\n",
    "columns_to_drop = ['VendorName', 'Quantity', 'Dollars', 'Approval' ]\n",
    "\n",
    "# Verificamos si las columnas a eliminar existen en el DataFrame\n",
    "existing_columns_to_drop = [col for col in columns_to_drop if col in InvoicePurchases.columns]\n",
    "\n",
    "# Imprimimos advertencia para las columnas no encontradas\n",
    "for col in columns_to_drop:\n",
    "    if col not in InvoicePurchases.columns:\n",
    "        print(f\"Advertencia: La columna '{col}' no existe en el DataFrame y no se puede eliminar.\")\n",
    "\n",
    "# Eliminamos las columnas especificadas que existen\n",
    "InvoicePurchases.drop(columns=existing_columns_to_drop, axis=1, inplace=True)\n",
    "\n",
    "#Se crea la columna indice con el nombre correspondiente\n",
    "InvoicePurchases['InvoicePurchasesID'] = range(1, len(InvoicePurchases) + 1)\n",
    "print (InvoicePurchases)"
   ]
  },
  {
   "cell_type": "markdown",
   "metadata": {},
   "source": [
    "### Suppliers"
   ]
  },
  {
   "cell_type": "code",
   "execution_count": null,
   "metadata": {},
   "outputs": [],
   "source": [
    "print (Suppliers.columns)\n",
    "print (Suppliers)"
   ]
  },
  {
   "cell_type": "code",
   "execution_count": null,
   "metadata": {},
   "outputs": [],
   "source": [
    "# Se liminan las columnas que no son necesarias en esta tabla\n",
    "# Especificamoi las columnas que quieres eliminar\n",
    "columns_to_drop = ['Approval', 'Freight', 'Dollars', 'Quantity', 'PayDate', 'PODate', 'PONumber', 'InvoiceDate']\n",
    "\n",
    "# Verificamos si las columnas a eliminar existen en el DataFrame\n",
    "existing_columns_to_drop = [col for col in columns_to_drop if col in Suppliers.columns]\n",
    "\n",
    "# Imprimimos advertencia para las columnas no encontradas\n",
    "for col in columns_to_drop:\n",
    "    if col not in Suppliers.columns:\n",
    "        print(f\"Advertencia: La columna '{col}' no existe en el DataFrame y no se puede eliminar.\")\n",
    "\n",
    "# Eliminamos las columnas especificadas que existen\n",
    "Suppliers.drop(columns=existing_columns_to_drop, axis=1, inplace=True)\n",
    "\n",
    "# Limpiamos duplicados en cada DataFrame\n",
    "Suppliers.drop_duplicates()\n",
    "\n",
    "print (Suppliers.columns)\n",
    "print (Suppliers)"
   ]
  },
  {
   "cell_type": "markdown",
   "metadata": {},
   "source": [
    "### Limpieza"
   ]
  },
  {
   "cell_type": "code",
   "execution_count": null,
   "metadata": {},
   "outputs": [],
   "source": [
    "# Esta celda puede volver a ejecutarse de ser necesario para asegurarnos de que los datos fueron limpiados correctamente. Pero se ejecuto en un comienzo para armar los dataframes de manera ordenada y limpia\n",
    "\"\"\" #Lista de DataFrames\n",
    "dataframes = [SalesDetail, Sales, Inventory, Purchases, InvoicePurchases, Suppliers]\n",
    "\n",
    "# Cambiamos el nombre de la columna si existe ()\n",
    "for df in dataframes:\n",
    "    if 'InventoryId' in df.columns:\n",
    "        df.rename(columns={'InventoryId': 'InventoryID'},inplace=True)\n",
    "\n",
    "# Limpiamos duplicados en cada DataFrame\n",
    "for i, df in enumerate(dataframes):\n",
    "    dataframes[i] = df.drop_duplicates()\n",
    "\n",
    "\n",
    "# Limpiamos nulos en cada DataFrame\n",
    "for i, df in enumerate(dataframes):\n",
    "    dataframes[i] = df.dropna()\n",
    "\n",
    "# Mostramos los DataFrames actualizados para verificar\n",
    "for df in dataframes:\n",
    "    print(df.head())\n",
    "\n",
    "# Imprimimos los dataframe para ver que se hayan realizado los cambios \n",
    "print (SalesDetail,Sales,Inventory,Purchases,InvoicePurchases,Suppliers)\n",
    "\"\"\""
   ]
  },
  {
   "cell_type": "markdown",
   "metadata": {},
   "source": [
    "#### Creamos tabla calendario para el analisis en Power BI y visualizaciones"
   ]
  },
  {
   "cell_type": "code",
   "execution_count": null,
   "metadata": {},
   "outputs": [],
   "source": [
    "# se crea la tabla calendario para no tener que hacerlo en Power BI|\n",
    "import pandas as pd\n",
    "\n",
    "# Crear un rango de fechas para el año 2016\n",
    "date_range = pd.date_range(start='2016-01-01', end='2016-12-31', freq='D')\n",
    "\n",
    "# Crear un DataFrame con las fechas\n",
    "Calendar_df = pd.DataFrame(date_range, columns=['Date'])\n",
    "\n",
    "# Agregar columnas adicionales con la información de la fecha\n",
    "Calendar_df['Year'] = Calendar_df['Date'].dt.year\n",
    "Calendar_df['Month'] = Calendar_df['Date'].dt.month\n",
    "Calendar_df['Day'] = Calendar_df['Date'].dt.day\n",
    "Calendar_df['Weekday'] = Calendar_df['Date'].dt.weekday\n",
    "Calendar_df['Week'] = Calendar_df['Date'].dt.isocalendar().week\n",
    "Calendar_df['Quarter'] = Calendar_df['Date'].dt.quarter\n",
    "\n",
    "# Mostrar el DataFrame resultante\n",
    "print(Calendar_df)\n"
   ]
  },
  {
   "cell_type": "code",
   "execution_count": null,
   "metadata": {},
   "outputs": [],
   "source": [
    "#Guardamos el dataset final con las filtraciones requeridas y limpio\n",
    "\n",
    "Sales.to_csv('Sales.csv',index=False)\n",
    "Inventory.to_csv('Inventory.csv',index=False)\n",
    "SalesDetail.to_csv('SalesDetail.csv',index=False)\n",
    "Purchases.to_csv('Purchases.csv',index=False)\n",
    "InvoicePurchases.to_csv('InvoicePurchases.csv',index=False)\n",
    "Suppliers.to_csv('Suppliers.csv',index=False)\n",
    "Calendar_df.to_csv('calendar_2016.csv', index=False)\n"
   ]
  },
  {
   "cell_type": "markdown",
   "metadata": {},
   "source": [
    "## Script para subir los CSVs a Power BI con python"
   ]
  },
  {
   "cell_type": "code",
   "execution_count": null,
   "metadata": {},
   "outputs": [],
   "source": [
    "#Se crea el script para poder importar los datos desde Power BI\n",
    "import pandas as pd\n",
    "\n",
    "\n",
    "# Cargar cada archivo CSV en su respectiva tabla en SQL Server\n",
    "SalesDetail = pd.read_csv(r'C:\\Users\\julic\\Documents\\Drinks-Basket\\SalesDetail.csv')\n",
    "Sales = pd.read_csv(r'C:\\Users\\julic\\Documents\\Drinks-Basket\\Sales.csv')\n",
    "Inventory = pd.read_csv(r'C:\\Users\\julic\\Documents\\Drinks-Basket\\Inventory.csv')\n",
    "Purchases =  pd.read_csv(r'C:\\Users\\julic\\Documents\\Drinks-Basket\\Purchases.csv')\n",
    "InvoicePurchases =  pd.read_csv(r'C:\\Users\\julic\\Documents\\Drinks-Basket\\InvoicePurchases.csv')\n",
    "calendar_2016 = pd.read_csv(r'C:\\Users\\julic\\Documents\\Drinks-Basket\\calendar_2016.csv')\n",
    "Suppliers = pd.read_csv(r'C:\\Users\\julic\\Documents\\Drinks-Basket\\Suppliers.csv')\n"
   ]
  }
 ],
 "metadata": {
  "kernelspec": {
   "display_name": "Python 3",
   "language": "python",
   "name": "python3"
  },
  "language_info": {
   "codemirror_mode": {
    "name": "ipython",
    "version": 3
   },
   "file_extension": ".py",
   "mimetype": "text/x-python",
   "name": "python",
   "nbconvert_exporter": "python",
   "pygments_lexer": "ipython3",
   "version": "3.11.4"
  }
 },
 "nbformat": 4,
 "nbformat_minor": 2
}
